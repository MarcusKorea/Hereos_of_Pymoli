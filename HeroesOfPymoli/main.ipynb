{
 "cells": [
  {
   "cell_type": "markdown",
   "id": "d99ac420",
   "metadata": {},
   "source": [
    "# Heroes of Pymoli"
   ]
  },
  {
   "cell_type": "code",
   "execution_count": 1,
   "id": "0e326b67",
   "metadata": {},
   "outputs": [],
   "source": [
    "# import pandas\n",
    "import pandas as pd"
   ]
  },
  {
   "cell_type": "code",
   "execution_count": 2,
   "id": "26381d76",
   "metadata": {},
   "outputs": [],
   "source": [
    "# Load the file\n",
    "\n",
    "# File to Load (Remember to Change These)\n",
    "file_to_load = \"Resources/purchase_data.csv\"\n",
    "\n",
    "# Read Purchasing File and store into Pandas data frame\n",
    "purchase_data = pd.read_csv(file_to_load)"
   ]
  },
  {
   "cell_type": "markdown",
   "id": "158fdc59",
   "metadata": {},
   "source": [
    "### Player Count"
   ]
  },
  {
   "cell_type": "code",
   "execution_count": 3,
   "id": "20788a97",
   "metadata": {},
   "outputs": [
    {
     "data": {
      "text/html": [
       "<div>\n",
       "<style scoped>\n",
       "    .dataframe tbody tr th:only-of-type {\n",
       "        vertical-align: middle;\n",
       "    }\n",
       "\n",
       "    .dataframe tbody tr th {\n",
       "        vertical-align: top;\n",
       "    }\n",
       "\n",
       "    .dataframe thead th {\n",
       "        text-align: right;\n",
       "    }\n",
       "</style>\n",
       "<table border=\"1\" class=\"dataframe\">\n",
       "  <thead>\n",
       "    <tr style=\"text-align: right;\">\n",
       "      <th></th>\n",
       "      <th>Total Players</th>\n",
       "    </tr>\n",
       "  </thead>\n",
       "  <tbody>\n",
       "    <tr>\n",
       "      <th>0</th>\n",
       "      <td>576</td>\n",
       "    </tr>\n",
       "  </tbody>\n",
       "</table>\n",
       "</div>"
      ],
      "text/plain": [
       "   Total Players\n",
       "0            576"
      ]
     },
     "execution_count": 3,
     "metadata": {},
     "output_type": "execute_result"
    }
   ],
   "source": [
    "# Count the number of Players (which is the number of rows in dataset)\n",
    "totalPlayers = purchase_data[\"SN\"].value_counts().count()\n",
    "# Display it as data frame\n",
    "totalPlayersDF = pd.DataFrame({\"Total Players\":[ totalPlayers]})\n",
    "totalPlayersDF"
   ]
  },
  {
   "cell_type": "markdown",
   "id": "252ba140",
   "metadata": {},
   "source": [
    "### Purchasing Analysis (Total)"
   ]
  },
  {
   "cell_type": "code",
   "execution_count": 4,
   "id": "eb48ce82",
   "metadata": {},
   "outputs": [
    {
     "data": {
      "text/html": [
       "<div>\n",
       "<style scoped>\n",
       "    .dataframe tbody tr th:only-of-type {\n",
       "        vertical-align: middle;\n",
       "    }\n",
       "\n",
       "    .dataframe tbody tr th {\n",
       "        vertical-align: top;\n",
       "    }\n",
       "\n",
       "    .dataframe thead th {\n",
       "        text-align: right;\n",
       "    }\n",
       "</style>\n",
       "<table border=\"1\" class=\"dataframe\">\n",
       "  <thead>\n",
       "    <tr style=\"text-align: right;\">\n",
       "      <th></th>\n",
       "      <th>Number of Unique Items</th>\n",
       "      <th>Average Price</th>\n",
       "      <th>Number of Purchases</th>\n",
       "      <th>Total Revenue</th>\n",
       "    </tr>\n",
       "  </thead>\n",
       "  <tbody>\n",
       "    <tr>\n",
       "      <th>0</th>\n",
       "      <td>179</td>\n",
       "      <td>$3.05</td>\n",
       "      <td>780</td>\n",
       "      <td>$2,379.77</td>\n",
       "    </tr>\n",
       "  </tbody>\n",
       "</table>\n",
       "</div>"
      ],
      "text/plain": [
       "   Number of Unique Items Average Price  Number of Purchases Total Revenue\n",
       "0                     179         $3.05                  780     $2,379.77"
      ]
     },
     "execution_count": 4,
     "metadata": {},
     "output_type": "execute_result"
    }
   ],
   "source": [
    "# Number of unique items\n",
    "totalUniqueItems = purchase_data[\"Item Name\"].value_counts().count()\n",
    "# Average purchase price\n",
    "averagePurchasePrice = round(purchase_data[\"Price\"].mean(),2)\n",
    "# Total number of Purchases\n",
    "totalNumberPurchases = purchase_data[\"Purchase ID\"].count()\n",
    "# Total Revenue\n",
    "totalRevenue = purchase_data[\"Price\"].sum()\n",
    "PurchaseResults = pd.DataFrame({\n",
    "    \"Number of Unique Items\":[totalUniqueItems],\n",
    "    \"Average Price\": [averagePurchasePrice],\n",
    "    \"Number of Purchases\": [totalNumberPurchases],\n",
    "    \"Total Revenue\":[totalRevenue]\n",
    "    \n",
    "})\n",
    "PurchaseResults[\"Average Price\"] = PurchaseResults[\"Average Price\"].map(\"${:.2f}\".format)\n",
    "PurchaseResults[\"Total Revenue\"] = PurchaseResults[\"Total Revenue\"].map(\"${:,.2f}\".format)\n",
    "PurchaseResults"
   ]
  },
  {
   "cell_type": "markdown",
   "id": "05329492",
   "metadata": {},
   "source": [
    "### Gender Demographics"
   ]
  },
  {
   "cell_type": "code",
   "execution_count": 5,
   "id": "b98a5613",
   "metadata": {},
   "outputs": [
    {
     "data": {
      "text/html": [
       "<div>\n",
       "<style scoped>\n",
       "    .dataframe tbody tr th:only-of-type {\n",
       "        vertical-align: middle;\n",
       "    }\n",
       "\n",
       "    .dataframe tbody tr th {\n",
       "        vertical-align: top;\n",
       "    }\n",
       "\n",
       "    .dataframe thead th {\n",
       "        text-align: right;\n",
       "    }\n",
       "</style>\n",
       "<table border=\"1\" class=\"dataframe\">\n",
       "  <thead>\n",
       "    <tr style=\"text-align: right;\">\n",
       "      <th></th>\n",
       "      <th>Total Count</th>\n",
       "      <th>Percentage of Players</th>\n",
       "    </tr>\n",
       "    <tr>\n",
       "      <th>Gender</th>\n",
       "      <th></th>\n",
       "      <th></th>\n",
       "    </tr>\n",
       "  </thead>\n",
       "  <tbody>\n",
       "    <tr>\n",
       "      <th>Male</th>\n",
       "      <td>484</td>\n",
       "      <td>84.03%</td>\n",
       "    </tr>\n",
       "    <tr>\n",
       "      <th>Female</th>\n",
       "      <td>81</td>\n",
       "      <td>14.06%</td>\n",
       "    </tr>\n",
       "    <tr>\n",
       "      <th>Other / Non-Disclosed</th>\n",
       "      <td>11</td>\n",
       "      <td>1.91%</td>\n",
       "    </tr>\n",
       "  </tbody>\n",
       "</table>\n",
       "</div>"
      ],
      "text/plain": [
       "                       Total Count Percentage of Players\n",
       "Gender                                                  \n",
       "Male                           484                84.03%\n",
       "Female                          81                14.06%\n",
       "Other / Non-Disclosed           11                 1.91%"
      ]
     },
     "execution_count": 5,
     "metadata": {},
     "output_type": "execute_result"
    }
   ],
   "source": [
    "# Store unique players and their related info, (SN, Age, Gender) into dataframe\n",
    "PlayerInfo = purchase_data.iloc[:,1:4]\n",
    "uniquePlayersInfo = PlayerInfo.drop_duplicates([\"SN\",\"Gender\"])\n",
    "uniquePlayersInfoG = uniquePlayersInfo.groupby(\"Gender\")\n",
    "# #Find the counts of each gender\n",
    "\n",
    "genderCounts = uniquePlayersInfoG.count()\n",
    "genderCounts = pd.DataFrame(genderCounts[\"SN\"])\n",
    "femaleCount = genderCounts.loc[\"Female\"]\n",
    "maleCount = genderCounts.loc[\"Male\"]\n",
    "otherCount = genderCounts.loc[\"Other / Non-Disclosed\"]\n",
    "# Store each gender count into its own variable\n",
    "# maleCount = genderCounts[0]\n",
    "# femaleCount = genderCounts[1]\n",
    "# otherCount = genderCounts[2]\n",
    "\n",
    "malePercent = round((maleCount / totalPlayers) * 100,2)\n",
    "femalePercent = round((femaleCount / totalPlayers) * 100,2)\n",
    "otherPercent = round((otherCount / totalPlayers) * 100,2)\n",
    "\n",
    "genderResults = pd.DataFrame({\n",
    "    \"Total Count\": [maleCount[0], femaleCount[0], otherCount[0]],\n",
    "    \"Percentage of Players\" : [malePercent[0],femalePercent[0], otherPercent[0]],\n",
    "    \"Gender\" : [\"Male\", \"Female\",\"Other / Non-Disclosed\"]\n",
    "})\n",
    "\n",
    "genderResults[\"Percentage of Players\"] = genderResults[\"Percentage of Players\"].map(\"{:.2f}%\".format)\n",
    "genderResults = genderResults.set_index(\"Gender\")\n",
    "genderResults"
   ]
  },
  {
   "cell_type": "markdown",
   "id": "f2ad89f6",
   "metadata": {},
   "source": [
    "### Purchasing Analysis (Gender)"
   ]
  },
  {
   "cell_type": "code",
   "execution_count": 6,
   "id": "4bd67e10",
   "metadata": {},
   "outputs": [
    {
     "data": {
      "text/html": [
       "<div>\n",
       "<style scoped>\n",
       "    .dataframe tbody tr th:only-of-type {\n",
       "        vertical-align: middle;\n",
       "    }\n",
       "\n",
       "    .dataframe tbody tr th {\n",
       "        vertical-align: top;\n",
       "    }\n",
       "\n",
       "    .dataframe thead th {\n",
       "        text-align: right;\n",
       "    }\n",
       "</style>\n",
       "<table border=\"1\" class=\"dataframe\">\n",
       "  <thead>\n",
       "    <tr style=\"text-align: right;\">\n",
       "      <th></th>\n",
       "      <th>Purchase Count</th>\n",
       "      <th>Average Purchase Price</th>\n",
       "      <th>Total Purchase Value</th>\n",
       "      <th>Avg Total Purrchase per Person</th>\n",
       "    </tr>\n",
       "    <tr>\n",
       "      <th>Gender</th>\n",
       "      <th></th>\n",
       "      <th></th>\n",
       "      <th></th>\n",
       "      <th></th>\n",
       "    </tr>\n",
       "  </thead>\n",
       "  <tbody>\n",
       "    <tr>\n",
       "      <th>Female</th>\n",
       "      <td>113</td>\n",
       "      <td>$3.20</td>\n",
       "      <td>$361.94</td>\n",
       "      <td>$4.47</td>\n",
       "    </tr>\n",
       "    <tr>\n",
       "      <th>Male</th>\n",
       "      <td>652</td>\n",
       "      <td>$3.02</td>\n",
       "      <td>$1,967.64</td>\n",
       "      <td>$4.07</td>\n",
       "    </tr>\n",
       "    <tr>\n",
       "      <th>Other / Non-Disclosed</th>\n",
       "      <td>15</td>\n",
       "      <td>$3.35</td>\n",
       "      <td>$50.19</td>\n",
       "      <td>$4.56</td>\n",
       "    </tr>\n",
       "  </tbody>\n",
       "</table>\n",
       "</div>"
      ],
      "text/plain": [
       "                       Purchase Count Average Purchase Price  \\\n",
       "Gender                                                         \n",
       "Female                            113                  $3.20   \n",
       "Male                              652                  $3.02   \n",
       "Other / Non-Disclosed              15                  $3.35   \n",
       "\n",
       "                      Total Purchase Value Avg Total Purrchase per Person  \n",
       "Gender                                                                     \n",
       "Female                             $361.94                          $4.47  \n",
       "Male                             $1,967.64                          $4.07  \n",
       "Other / Non-Disclosed               $50.19                          $4.56  "
      ]
     },
     "execution_count": 6,
     "metadata": {},
     "output_type": "execute_result"
    }
   ],
   "source": [
    "# Group by Gender\n",
    "# Count how many purchases each gender made\n",
    "purchGend = purchase_data[[\"Gender\",\"SN\"]].groupby(\"Gender\").count()\n",
    "\n",
    "# Rename SN column to Purchase Count\n",
    "purchGend = purchGend.rename(columns = {\"SN\": \"Purchase Count\"})\n",
    "\n",
    "# Average purchase price each for gender\n",
    "purchGend[\"Average Purchase Price\"] =purchase_data[[\"Gender\",\"Price\"]].groupby(\"Gender\").mean()\n",
    "\n",
    "# Add Total purchase price for each gender\n",
    "purchGend[\"Total Purchase Value\"] = purchase_data[[\"Gender\",\"Price\"]].groupby(\"Gender\").sum()\n",
    "purchGend\n",
    "\n",
    "# Add Avergae total purchase per person\n",
    "# Group by gender with name and price \n",
    "groupGender = purchase_data.groupby([\"Gender\",\"SN\"])[\"Price\"]\n",
    "# Average Total Purchae per person for each gender\n",
    "# Female\n",
    "femaleMean = groupGender.sum().loc[\"Female\"].mean()\n",
    "# Male\n",
    "maleMean = groupGender.sum().loc[\"Male\"].mean()\n",
    "# Other\n",
    "othermean = groupGender.sum().loc[\"Other / Non-Disclosed\"].mean()\n",
    "\n",
    "purchGend[\"Avg Total Purrchase per Person\"] = [femaleMean,maleMean,othermean]\n",
    "\n",
    "# Format Data Frame\n",
    "purchGend[\"Average Purchase Price\"]= purchGend[\"Average Purchase Price\"].map(\"${:,.2f}\".format)\n",
    "purchGend[\"Total Purchase Value\"]= purchGend[\"Total Purchase Value\"].map(\"${:,.2f}\".format)\n",
    "purchGend[\"Avg Total Purrchase per Person\"]= purchGend[\"Avg Total Purrchase per Person\"].map(\"${:,.2f}\".format)\n",
    "\n",
    "# Dispay Summary\n",
    "purchGend"
   ]
  },
  {
   "cell_type": "markdown",
   "id": "cfe48f7b",
   "metadata": {},
   "source": [
    "### Age Demographics"
   ]
  },
  {
   "cell_type": "code",
   "execution_count": 7,
   "id": "4a51b48b",
   "metadata": {},
   "outputs": [],
   "source": [
    "# Remove duplicate player names\n",
    "playerUnique = purchase_data.drop_duplicates([\"SN\",\"Age\"])\n"
   ]
  },
  {
   "cell_type": "code",
   "execution_count": 8,
   "id": "57897015",
   "metadata": {},
   "outputs": [
    {
     "data": {
      "text/html": [
       "<div>\n",
       "<style scoped>\n",
       "    .dataframe tbody tr th:only-of-type {\n",
       "        vertical-align: middle;\n",
       "    }\n",
       "\n",
       "    .dataframe tbody tr th {\n",
       "        vertical-align: top;\n",
       "    }\n",
       "\n",
       "    .dataframe thead th {\n",
       "        text-align: right;\n",
       "    }\n",
       "</style>\n",
       "<table border=\"1\" class=\"dataframe\">\n",
       "  <thead>\n",
       "    <tr style=\"text-align: right;\">\n",
       "      <th></th>\n",
       "      <th>Age Bracket</th>\n",
       "      <th>Percentage of Players</th>\n",
       "    </tr>\n",
       "  </thead>\n",
       "  <tbody>\n",
       "    <tr>\n",
       "      <th>&lt;10</th>\n",
       "      <td>17</td>\n",
       "      <td>2.95%</td>\n",
       "    </tr>\n",
       "    <tr>\n",
       "      <th>10-14</th>\n",
       "      <td>22</td>\n",
       "      <td>3.82%</td>\n",
       "    </tr>\n",
       "    <tr>\n",
       "      <th>15-19</th>\n",
       "      <td>107</td>\n",
       "      <td>18.58%</td>\n",
       "    </tr>\n",
       "    <tr>\n",
       "      <th>20-24</th>\n",
       "      <td>258</td>\n",
       "      <td>44.79%</td>\n",
       "    </tr>\n",
       "    <tr>\n",
       "      <th>25-29</th>\n",
       "      <td>77</td>\n",
       "      <td>13.37%</td>\n",
       "    </tr>\n",
       "    <tr>\n",
       "      <th>30-34</th>\n",
       "      <td>52</td>\n",
       "      <td>9.03%</td>\n",
       "    </tr>\n",
       "    <tr>\n",
       "      <th>35-39</th>\n",
       "      <td>31</td>\n",
       "      <td>5.38%</td>\n",
       "    </tr>\n",
       "    <tr>\n",
       "      <th>40+</th>\n",
       "      <td>12</td>\n",
       "      <td>2.08%</td>\n",
       "    </tr>\n",
       "  </tbody>\n",
       "</table>\n",
       "</div>"
      ],
      "text/plain": [
       "       Age Bracket Percentage of Players\n",
       "<10             17                 2.95%\n",
       "10-14           22                 3.82%\n",
       "15-19          107                18.58%\n",
       "20-24          258                44.79%\n",
       "25-29           77                13.37%\n",
       "30-34           52                 9.03%\n",
       "35-39           31                 5.38%\n",
       "40+             12                 2.08%"
      ]
     },
     "execution_count": 8,
     "metadata": {},
     "output_type": "execute_result"
    }
   ],
   "source": [
    "# create bins\n",
    "bins = [0,9,14,19,24,29,34,39,50]\n",
    "# create labels\n",
    "binLabels = [\"<10\", \"10-14\", \"15-19\",\"20-24\",\"25-29\",\"30-34\",\"35-39\",\"40+\"]\n",
    "#Place data into bins\n",
    "binData = pd.cut(playerUnique[\"Age\"],bins, labels = binLabels)\n",
    "binData.value_counts()\n",
    "# # add this column to dataframe\n",
    "binData = pd.Series(binData, name =\"Age Bracket\")\n",
    "\n",
    "ageBracket = pd.concat([playerUnique,binData],axis = 1)\n",
    "\n",
    "# ageBracket[ageBracket[\"Age Bracket\"].isnull()]\n",
    "result = pd.DataFrame(ageBracket[\"Age Bracket\"].value_counts()).sort_index()\n",
    "result[\"Percentage of Players\"] = (result[\"Age Bracket\"] / totalPlayers)*100\n",
    "result[\"Percentage of Players\"] = result[\"Percentage of Players\"].map(\"{:.2f}%\".format)\n",
    "result"
   ]
  },
  {
   "cell_type": "markdown",
   "id": "90078953",
   "metadata": {},
   "source": [
    "### Purchasing Analysis (Age)"
   ]
  },
  {
   "cell_type": "code",
   "execution_count": 60,
   "id": "e7d5624a",
   "metadata": {},
   "outputs": [
    {
     "data": {
      "text/plain": [
       "3.353478260869565"
      ]
     },
     "execution_count": 60,
     "metadata": {},
     "output_type": "execute_result"
    }
   ],
   "source": [
    "binData = pd.cut(purchase_data[\"Age\"],bins, labels = binLabels)\n",
    "purchase_data[\"Age Bracket\"] = binData\n",
    "# Total Count\n",
    "purchase_data.groupby(\"Age Bracket\")[\"SN\"].count()\n",
    "\n",
    "# Average Purchase Price\n",
    "purchase_data.groupby(\"Age Bracket\")[\"Price\"].mean()\n",
    "\n",
    "# Total Purchase value\n",
    "purchase_data.groupby(\"Age Bracket\")[\"Price\"].sum()\n",
    "\n",
    "\n",
    "# Average Total Purchase Person\n",
    "groupAge = purchase_data.groupby([\"Age Bracket\",\"SN\"])[\"Price\"]\n",
    "# Average Total Purchae per person for each Age Bracket\n",
    "\n",
    "#THIS DOESNT WORK!! FIX\n",
    "# Female\n",
    "g1 = groupAge.sum().loc[\"<10\"].sum()/23\n",
    "# Male\n",
    "g2 = groupAge.sum().loc[\"10-14\"].mean()\n",
    "# Other\n",
    "g3 = groupAge.sum().loc[\"15-19\"].mean()\n"
   ]
  },
  {
   "cell_type": "code",
   "execution_count": 34,
   "id": "f8627636",
   "metadata": {},
   "outputs": [
    {
     "data": {
      "text/plain": [
       "780"
      ]
     },
     "execution_count": 34,
     "metadata": {},
     "output_type": "execute_result"
    }
   ],
   "source": [
    "23+28+136+365+101+73+41+13"
   ]
  },
  {
   "cell_type": "code",
   "execution_count": 35,
   "id": "93d4380f",
   "metadata": {},
   "outputs": [
    {
     "data": {
      "text/plain": [
       "Purchase ID    780\n",
       "SN             780\n",
       "Age            780\n",
       "Gender         780\n",
       "Item ID        780\n",
       "Item Name      780\n",
       "Price          780\n",
       "Age Bracket    576\n",
       "dtype: int64"
      ]
     },
     "execution_count": 35,
     "metadata": {},
     "output_type": "execute_result"
    }
   ],
   "source": []
  },
  {
   "cell_type": "code",
   "execution_count": null,
   "id": "73063401",
   "metadata": {},
   "outputs": [],
   "source": []
  }
 ],
 "metadata": {
  "kernelspec": {
   "display_name": "Python 3",
   "language": "python",
   "name": "python3"
  },
  "language_info": {
   "codemirror_mode": {
    "name": "ipython",
    "version": 3
   },
   "file_extension": ".py",
   "mimetype": "text/x-python",
   "name": "python",
   "nbconvert_exporter": "python",
   "pygments_lexer": "ipython3",
   "version": "3.8.2"
  }
 },
 "nbformat": 4,
 "nbformat_minor": 5
}
