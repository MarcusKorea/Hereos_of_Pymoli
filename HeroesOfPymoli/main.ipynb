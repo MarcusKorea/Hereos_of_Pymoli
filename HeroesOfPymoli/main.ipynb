{
 "cells": [
  {
   "cell_type": "markdown",
   "id": "d99ac420",
   "metadata": {},
   "source": [
    "# Heroes of Pymoli"
   ]
  },
  {
   "cell_type": "code",
   "execution_count": null,
   "id": "0e326b67",
   "metadata": {},
   "outputs": [],
   "source": [
    "# import pandas\n",
    "import pandas as pd"
   ]
  },
  {
   "cell_type": "code",
   "execution_count": null,
   "id": "26381d76",
   "metadata": {},
   "outputs": [],
   "source": [
    "# Load the file\n",
    "\n",
    "# File to Load (Remember to Change These)\n",
    "file_to_load = \"Resources/purchase_data.csv\"\n",
    "\n",
    "# Read Purchasing File and store into Pandas data frame\n",
    "purchase_data = pd.read_csv(file_to_load)"
   ]
  },
  {
   "cell_type": "markdown",
   "id": "158fdc59",
   "metadata": {},
   "source": [
    "### Player Count"
   ]
  },
  {
   "cell_type": "code",
   "execution_count": null,
   "id": "20788a97",
   "metadata": {},
   "outputs": [],
   "source": [
    "# Count the number of Players (which is the number of rows in dataset)\n",
    "totalPlayers = purchase_data[\"SN\"].value_counts().count()\n",
    "# Display it as data frame\n",
    "totalPlayersDF = pd.DataFrame({\"Total Players\":[ totalPlayers]})\n",
    "totalPlayersDF"
   ]
  },
  {
   "cell_type": "markdown",
   "id": "252ba140",
   "metadata": {},
   "source": [
    "### Purchasing Analysis (Total)"
   ]
  },
  {
   "cell_type": "code",
   "execution_count": null,
   "id": "eb48ce82",
   "metadata": {},
   "outputs": [],
   "source": [
    "# Number of unique items\n",
    "totalUniqueItems = purchase_data[\"Item Name\"].value_counts().count()\n",
    "# Average purchase price\n",
    "averagePurchasePrice = round(purchase_data[\"Price\"].mean(),2)\n",
    "# Total number of Purchases\n",
    "totalNumberPurchases = purchase_data[\"Purchase ID\"].count()\n",
    "# Total Revenue\n",
    "totalRevenue = purchase_data[\"Price\"].sum()\n",
    "PurchaseResults = pd.DataFrame({\n",
    "    \"Number of Unique Items\":[totalUniqueItems],\n",
    "    \"Average Price\": [averagePurchasePrice],\n",
    "    \"Number of Purchases\": [totalNumberPurchases],\n",
    "    \"Total Revenue\":[totalRevenue]\n",
    "    \n",
    "})\n",
    "PurchaseResults[\"Average Price\"] = PurchaseResults[\"Average Price\"].map(\"${:.2f}\".format)\n",
    "PurchaseResults[\"Total Revenue\"] = PurchaseResults[\"Total Revenue\"].map(\"${:,.2f}\".format)\n",
    "PurchaseResults"
   ]
  },
  {
   "cell_type": "markdown",
   "id": "05329492",
   "metadata": {},
   "source": [
    "### Gender Demographics"
   ]
  },
  {
   "cell_type": "code",
   "execution_count": null,
   "id": "b98a5613",
   "metadata": {},
   "outputs": [],
   "source": [
    "# Store unique players and their related info, (SN, Age, Gender) into dataframe\n",
    "PlayerInfo = purchase_data.iloc[:,1:4]\n",
    "uniquePlayersInfo = PlayerInfo.drop_duplicates([\"SN\",\"Gender\"])\n",
    "uniquePlayersInfoG = uniquePlayersInfo.groupby(\"Gender\")\n",
    "# #Find the counts of each gender\n",
    "\n",
    "genderCounts = uniquePlayersInfoG.count()\n",
    "genderCounts = pd.DataFrame(genderCounts[\"SN\"])\n",
    "\n",
    "# Store each gender count into its own variable\n",
    "femaleCount = genderCounts.loc[\"Female\"]\n",
    "maleCount = genderCounts.loc[\"Male\"]\n",
    "otherCount = genderCounts.loc[\"Other / Non-Disclosed\"]\n",
    "\n",
    "malePercent = round((maleCount / totalPlayers) * 100,2)\n",
    "femalePercent = round((femaleCount / totalPlayers) * 100,2)\n",
    "otherPercent = round((otherCount / totalPlayers) * 100,2)\n",
    "\n",
    "genderResults = pd.DataFrame({\n",
    "    \"Total Count\": [maleCount[0], femaleCount[0], otherCount[0]],\n",
    "    \"Percentage of Players\" : [malePercent[0],femalePercent[0], otherPercent[0]],\n",
    "    \"Gender\" : [\"Male\", \"Female\",\"Other / Non-Disclosed\"]\n",
    "})\n",
    "\n",
    "genderResults[\"Percentage of Players\"] = genderResults[\"Percentage of Players\"].map(\"{:.2f}%\".format)\n",
    "genderResults = genderResults.set_index(\"Gender\")\n",
    "genderResults"
   ]
  },
  {
   "cell_type": "markdown",
   "id": "f2ad89f6",
   "metadata": {},
   "source": [
    "### Purchasing Analysis (Gender)"
   ]
  },
  {
   "cell_type": "code",
   "execution_count": null,
   "id": "4bd67e10",
   "metadata": {},
   "outputs": [],
   "source": [
    "# Group by Gender\n",
    "# Count how many purchases each gender made\n",
    "purchGend = purchase_data[[\"Gender\",\"SN\"]].groupby(\"Gender\").count()\n",
    "\n",
    "# Rename SN column to Purchase Count\n",
    "purchGend = purchGend.rename(columns = {\"SN\": \"Purchase Count\"})\n",
    "\n",
    "# Average purchase price each for gender\n",
    "purchGend[\"Average Purchase Price\"] =purchase_data[[\"Gender\",\"Price\"]].groupby(\"Gender\").mean()\n",
    "\n",
    "# Add Total purchase price for each gender\n",
    "purchGend[\"Total Purchase Value\"] = purchase_data[[\"Gender\",\"Price\"]].groupby(\"Gender\").sum()\n",
    "purchGend\n",
    "\n",
    "# Add Avergae total purchase per person\n",
    "# Group by gender with name and price \n",
    "groupGender = purchase_data.groupby([\"Gender\",\"SN\"])[\"Price\"]\n",
    "# Average Total Purchae per person for each gender\n",
    "# Female\n",
    "femaleMean = groupGender.sum().loc[\"Female\"].mean()\n",
    "# Male\n",
    "maleMean = groupGender.sum().loc[\"Male\"].mean()\n",
    "# Other\n",
    "othermean = groupGender.sum().loc[\"Other / Non-Disclosed\"].mean()\n",
    "\n",
    "purchGend[\"Avg Total Purrchase per Person\"] = [femaleMean,maleMean,othermean]\n",
    "\n",
    "# Format Data Frame\n",
    "purchGend[\"Average Purchase Price\"]= purchGend[\"Average Purchase Price\"].map(\"${:,.2f}\".format)\n",
    "purchGend[\"Total Purchase Value\"]= purchGend[\"Total Purchase Value\"].map(\"${:,.2f}\".format)\n",
    "purchGend[\"Avg Total Purrchase per Person\"]= purchGend[\"Avg Total Purrchase per Person\"].map(\"${:,.2f}\".format)\n",
    "\n",
    "# Display Summary\n",
    "purchGend"
   ]
  },
  {
   "cell_type": "markdown",
   "id": "cfe48f7b",
   "metadata": {},
   "source": [
    "### Age Demographics"
   ]
  },
  {
   "cell_type": "code",
   "execution_count": null,
   "id": "4a51b48b",
   "metadata": {},
   "outputs": [],
   "source": [
    "# Remove duplicate player names\n",
    "playerUnique = purchase_data.drop_duplicates([\"SN\",\"Age\"])\n"
   ]
  },
  {
   "cell_type": "code",
   "execution_count": null,
   "id": "57897015",
   "metadata": {},
   "outputs": [],
   "source": [
    "# create bins\n",
    "bins = [0,9,14,19,24,29,34,39,50]\n",
    "# create labels\n",
    "binLabels = [\"<10\", \"10-14\", \"15-19\",\"20-24\",\"25-29\",\"30-34\",\"35-39\",\"40+\"]\n",
    "#Place data into bins\n",
    "binData = pd.cut(playerUnique[\"Age\"],bins, labels = binLabels)\n",
    "binData.value_counts()\n",
    "# # add this column to dataframe\n",
    "binData = pd.Series(binData, name =\"Age Bracket\")\n",
    "\n",
    "ageBracket = pd.concat([playerUnique,binData],axis = 1)\n",
    "\n",
    "# ageBracket[ageBracket[\"Age Bracket\"].isnull()]\n",
    "result = pd.DataFrame(ageBracket[\"Age Bracket\"].value_counts()).sort_index()\n",
    "result[\"Percentage of Players\"] = (result[\"Age Bracket\"] / totalPlayers)*100\n",
    "result[\"Percentage of Players\"] = result[\"Percentage of Players\"].map(\"{:.2f}%\".format)\n",
    "result"
   ]
  },
  {
   "cell_type": "markdown",
   "id": "90078953",
   "metadata": {},
   "source": [
    "### Purchasing Analysis (Age)"
   ]
  },
  {
   "cell_type": "code",
   "execution_count": null,
   "id": "e7d5624a",
   "metadata": {},
   "outputs": [],
   "source": [
    "binData2 = pd.cut(purchase_data[\"Age\"],bins, labels = binLabels)\n",
    "purchase_data[\"Age Bracket\"] = binData2\n",
    "# Total Count\n",
    "AgeDemographic = pd.DataFrame(purchase_data.groupby(\"Age Bracket\")[\"SN\"].count())\n",
    "\n",
    "# # Average Purchase Price\n",
    "avgPurchase = purchase_data.groupby(\"Age Bracket\")[\"Price\"].mean()\n",
    "\n",
    "# # Total Purchase value\n",
    "totalPurchase = purchase_data.groupby(\"Age Bracket\")[\"Price\"].sum()\n",
    "\n",
    "\n",
    "# Average Total Purchae per person for each Age Bracket\n",
    "# Group by age bracket\n",
    "age = purchase_data.groupby([\"Age Bracket\",\"SN\"])\n",
    "\n",
    "# Sums the total amount purchased by each player for watch\n",
    "age2 = age.sum()\n",
    "\n",
    "# Remove all rows that sum to zero (this means players werent in that age bracket)\n",
    "age3 = age2[age2[\"Price\"] != 0]\n",
    "\n",
    "meanList = []\n",
    "\n",
    "# find mean for each group\n",
    "for name in binLabels:\n",
    "    mean = age3[\"Price\"].loc[name].mean()\n",
    "    meanList.append(mean)\n",
    "\n",
    "# Merge all results into one data frame\n",
    "AgeDemographic[\"Average Purchase Price\"] = avgPurchase\n",
    "AgeDemographic[\"Total Purchase Value\"] = totalPurchase\n",
    "AgeDemographic[\"Avg Total Purchase per Person\"] = meanList\n",
    "\n",
    "# Format results\n",
    "AgeDemographic[\"Average Purchase Price\"] =AgeDemographic[\"Average Purchase Price\"].map(\"${:.2f}\".format)\n",
    "AgeDemographic[\"Total Purchase Value\"] =AgeDemographic[\"Total Purchase Value\"].map(\"${:.2f}\".format)\n",
    "AgeDemographic[\"Avg Total Purchase per Person\"] =AgeDemographic[\"Avg Total Purchase per Person\"].map(\"${:.2f}\".format)\n",
    "# Print result\n",
    "AgeDemographic\n"
   ]
  },
  {
   "cell_type": "code",
   "execution_count": 60,
   "id": "23120667",
   "metadata": {},
   "outputs": [
    {
     "data": {
      "text/html": [
       "<div>\n",
       "<style scoped>\n",
       "    .dataframe tbody tr th:only-of-type {\n",
       "        vertical-align: middle;\n",
       "    }\n",
       "\n",
       "    .dataframe tbody tr th {\n",
       "        vertical-align: top;\n",
       "    }\n",
       "\n",
       "    .dataframe thead th {\n",
       "        text-align: right;\n",
       "    }\n",
       "</style>\n",
       "<table border=\"1\" class=\"dataframe\">\n",
       "  <thead>\n",
       "    <tr style=\"text-align: right;\">\n",
       "      <th></th>\n",
       "      <th>Purchase Count</th>\n",
       "      <th>Average Purchase Price</th>\n",
       "      <th>Total Purchase Value</th>\n",
       "    </tr>\n",
       "    <tr>\n",
       "      <th>SN</th>\n",
       "      <th></th>\n",
       "      <th></th>\n",
       "      <th></th>\n",
       "    </tr>\n",
       "  </thead>\n",
       "  <tbody>\n",
       "    <tr>\n",
       "      <th>Lisosia93</th>\n",
       "      <td>5</td>\n",
       "      <td>$3.79</td>\n",
       "      <td>$18.96</td>\n",
       "    </tr>\n",
       "    <tr>\n",
       "      <th>Idastidru52</th>\n",
       "      <td>4</td>\n",
       "      <td>$3.86</td>\n",
       "      <td>$15.45</td>\n",
       "    </tr>\n",
       "    <tr>\n",
       "      <th>Chamjask73</th>\n",
       "      <td>3</td>\n",
       "      <td>$4.61</td>\n",
       "      <td>$13.83</td>\n",
       "    </tr>\n",
       "    <tr>\n",
       "      <th>Iral74</th>\n",
       "      <td>4</td>\n",
       "      <td>$3.40</td>\n",
       "      <td>$13.62</td>\n",
       "    </tr>\n",
       "    <tr>\n",
       "      <th>Iskadarya95</th>\n",
       "      <td>3</td>\n",
       "      <td>$4.37</td>\n",
       "      <td>$13.10</td>\n",
       "    </tr>\n",
       "  </tbody>\n",
       "</table>\n",
       "</div>"
      ],
      "text/plain": [
       "             Purchase Count Average Purchase Price Total Purchase Value\n",
       "SN                                                                     \n",
       "Lisosia93                 5                  $3.79               $18.96\n",
       "Idastidru52               4                  $3.86               $15.45\n",
       "Chamjask73                3                  $4.61               $13.83\n",
       "Iral74                    4                  $3.40               $13.62\n",
       "Iskadarya95               3                  $4.37               $13.10"
      ]
     },
     "execution_count": 60,
     "metadata": {},
     "output_type": "execute_result"
    }
   ],
   "source": [
    "# Group player\n",
    "groupPlayer = purchase_data.groupby(\"SN\")[\"Price\"]\n",
    "\n",
    "# Total spent \n",
    "topSpenders = pd.DataFrame(groupPlayer.sum())\n",
    "\n",
    "# Find top 5 spenders\n",
    "topSpenders = topSpenders.sort_values(by = \"Price\",ascending = False).head(5)\n",
    "names = topSpenders.index\n",
    "topSpenders\n",
    " \n",
    "# ind average purchase price\n",
    "t5means = groupPlayer.mean().loc[names]\n",
    "\n",
    "# topSpenders[\"Average Purchase Price\"] = counts\n",
    "# Total count of purchases for top 5\n",
    "t5counts = groupPlayer.count().loc[names]\n",
    "t5counts\n",
    "# Create output, rename columns \n",
    "topSpenders[\"Purchase Count\"] = t5counts\n",
    "topSpenders[\"Average Purchase Price\"] = t5means\n",
    "topSpenders = topSpenders.rename(columns = {\"Price\": \"Total Purchase Value\"})\n",
    "\n",
    "# change the order\n",
    "topSpenders = topSpenders[[\"Purchase Count\",\"Average Purchase Price\",\"Total Purchase Value\"]]\n",
    "\n",
    "# change the format\n",
    "topSpenders[\"Average Purchase Price\"] = topSpenders[\"Average Purchase Price\"].map(\"${:,.2f}\".format)\n",
    "topSpenders[\"Total Purchase Value\"] = topSpenders[\"Total Purchase Value\"].map(\"${:,.2f}\".format)\n",
    "\n",
    "# Print the output\n",
    "topSpenders"
   ]
  },
  {
   "cell_type": "code",
   "execution_count": null,
   "id": "f6ccb98f",
   "metadata": {},
   "outputs": [],
   "source": []
  }
 ],
 "metadata": {
  "kernelspec": {
   "display_name": "Python 3",
   "language": "python",
   "name": "python3"
  },
  "language_info": {
   "codemirror_mode": {
    "name": "ipython",
    "version": 3
   },
   "file_extension": ".py",
   "mimetype": "text/x-python",
   "name": "python",
   "nbconvert_exporter": "python",
   "pygments_lexer": "ipython3",
   "version": "3.8.2"
  }
 },
 "nbformat": 4,
 "nbformat_minor": 5
}
