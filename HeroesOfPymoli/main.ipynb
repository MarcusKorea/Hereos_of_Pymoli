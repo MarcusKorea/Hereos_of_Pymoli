{
 "cells": [
  {
   "cell_type": "markdown",
   "id": "d99ac420",
   "metadata": {},
   "source": [
    "# Heroes of Pymoli"
   ]
  },
  {
   "cell_type": "code",
   "execution_count": 3,
   "id": "0e326b67",
   "metadata": {},
   "outputs": [],
   "source": [
    "# import pandas\n",
    "import pandas as pd"
   ]
  },
  {
   "cell_type": "code",
   "execution_count": 4,
   "id": "26381d76",
   "metadata": {},
   "outputs": [],
   "source": [
    "# Load the file\n",
    "\n",
    "# File to Load (Remember to Change These)\n",
    "file_to_load = \"Resources/purchase_data.csv\"\n",
    "\n",
    "# Read Purchasing File and store into Pandas data frame\n",
    "purchase_data = pd.read_csv(file_to_load)"
   ]
  },
  {
   "cell_type": "code",
   "execution_count": 88,
   "id": "0f4472df",
   "metadata": {},
   "outputs": [
    {
     "data": {
      "text/plain": [
       "Index(['Purchase ID', 'SN', 'Age', 'Gender', 'Item ID', 'Item Name', 'Price'], dtype='object')"
      ]
     },
     "execution_count": 88,
     "metadata": {},
     "output_type": "execute_result"
    }
   ],
   "source": [
    "purchase_data.columns"
   ]
  },
  {
   "cell_type": "markdown",
   "id": "abfd4586",
   "metadata": {},
   "source": [
    "### Player Count"
   ]
  },
  {
   "cell_type": "code",
   "execution_count": 39,
   "id": "840b659d",
   "metadata": {},
   "outputs": [
    {
     "data": {
      "text/plain": [
       "576"
      ]
     },
     "execution_count": 39,
     "metadata": {},
     "output_type": "execute_result"
    }
   ],
   "source": [
    "# Count the number of Players (which is the number of rows in dataset)\n",
    "totalPlayers = purchase_data[\"SN\"].value_counts().count()\n",
    "totalPlayers"
   ]
  },
  {
   "cell_type": "markdown",
   "id": "7b918095",
   "metadata": {},
   "source": [
    "### Purchasing Analysis (Total)"
   ]
  },
  {
   "cell_type": "code",
   "execution_count": 123,
   "id": "7e65f194",
   "metadata": {},
   "outputs": [
    {
     "data": {
      "text/html": [
       "<div>\n",
       "<style scoped>\n",
       "    .dataframe tbody tr th:only-of-type {\n",
       "        vertical-align: middle;\n",
       "    }\n",
       "\n",
       "    .dataframe tbody tr th {\n",
       "        vertical-align: top;\n",
       "    }\n",
       "\n",
       "    .dataframe thead th {\n",
       "        text-align: right;\n",
       "    }\n",
       "</style>\n",
       "<table border=\"1\" class=\"dataframe\">\n",
       "  <thead>\n",
       "    <tr style=\"text-align: right;\">\n",
       "      <th></th>\n",
       "      <th>Number of Unique Items</th>\n",
       "      <th>Average Price</th>\n",
       "      <th>Number of Purchases</th>\n",
       "      <th>Total Revenue</th>\n",
       "    </tr>\n",
       "  </thead>\n",
       "  <tbody>\n",
       "    <tr>\n",
       "      <th>0</th>\n",
       "      <td>179</td>\n",
       "      <td>$3.05</td>\n",
       "      <td>780</td>\n",
       "      <td>$2379.77</td>\n",
       "    </tr>\n",
       "  </tbody>\n",
       "</table>\n",
       "</div>"
      ],
      "text/plain": [
       "   Number of Unique Items Average Price  Number of Purchases Total Revenue\n",
       "0                     179         $3.05                  780      $2379.77"
      ]
     },
     "execution_count": 123,
     "metadata": {},
     "output_type": "execute_result"
    }
   ],
   "source": [
    "# Number of unique items\n",
    "totalUniqueItems = purchase_data[\"Item Name\"].value_counts().count()\n",
    "# Average purchase price\n",
    "averagePurchasePrice = round(purchase_data[\"Price\"].mean(),2)\n",
    "# Total number of Purchases\n",
    "totalNumberPurchases = purchase_data[\"Purchase ID\"].count()\n",
    "# Total Revenue\n",
    "totalRevenue = purchase_data[\"Price\"].sum()\n",
    "PurchaseResults = pd.DataFrame({\n",
    "    \"Number of Unique Items\":[totalUniqueItems],\n",
    "    \"Average Price\": [f\"${averagePurchasePrice}\"],\n",
    "    \"Number of Purchases\": [totalNumberPurchases],\n",
    "    \"Total Revenue\":[f\"${totalRevenue}\"]\n",
    "    \n",
    "})\n",
    "PurchaseResults"
   ]
  },
  {
   "cell_type": "markdown",
   "id": "4daa58e9",
   "metadata": {},
   "source": [
    "### Gender Demographics"
   ]
  },
  {
   "cell_type": "code",
   "execution_count": 131,
   "id": "0afcac9c",
   "metadata": {},
   "outputs": [
    {
     "data": {
      "text/html": [
       "<div>\n",
       "<style scoped>\n",
       "    .dataframe tbody tr th:only-of-type {\n",
       "        vertical-align: middle;\n",
       "    }\n",
       "\n",
       "    .dataframe tbody tr th {\n",
       "        vertical-align: top;\n",
       "    }\n",
       "\n",
       "    .dataframe thead th {\n",
       "        text-align: right;\n",
       "    }\n",
       "</style>\n",
       "<table border=\"1\" class=\"dataframe\">\n",
       "  <thead>\n",
       "    <tr style=\"text-align: right;\">\n",
       "      <th></th>\n",
       "      <th>Total Count</th>\n",
       "      <th>Percentage of Players</th>\n",
       "    </tr>\n",
       "    <tr>\n",
       "      <th>Gender</th>\n",
       "      <th></th>\n",
       "      <th></th>\n",
       "    </tr>\n",
       "  </thead>\n",
       "  <tbody>\n",
       "    <tr>\n",
       "      <th>Male</th>\n",
       "      <td>484</td>\n",
       "      <td>84.03%</td>\n",
       "    </tr>\n",
       "    <tr>\n",
       "      <th>Female</th>\n",
       "      <td>81</td>\n",
       "      <td>14.06%</td>\n",
       "    </tr>\n",
       "    <tr>\n",
       "      <th>Other / Non-Disclosed</th>\n",
       "      <td>11</td>\n",
       "      <td>1.91%</td>\n",
       "    </tr>\n",
       "  </tbody>\n",
       "</table>\n",
       "</div>"
      ],
      "text/plain": [
       "                       Total Count Percentage of Players\n",
       "Gender                                                  \n",
       "Male                           484                84.03%\n",
       "Female                          81                14.06%\n",
       "Other / Non-Disclosed           11                 1.91%"
      ]
     },
     "execution_count": 131,
     "metadata": {},
     "output_type": "execute_result"
    }
   ],
   "source": [
    "# Store unique players and their related info, (SN, Age, Gender) into dataframe\n",
    "PlayerInfo = purchase_data.iloc[:,1:4]\n",
    "uniquePlayersInfo = PlayerInfo.drop_duplicates(subset = [\"SN\",\"Gender\"])\n",
    "\n",
    "#Find the counts of each gender\n",
    "genderCounts = uniquePlayersInfo[\"Gender\"].value_counts()\n",
    "\n",
    "# Store each gender count into its own variable\n",
    "maleCount = genderCounts[0]\n",
    "femaleCount = genderCounts[1]\n",
    "otherCount = genderCounts[2]\n",
    "\n",
    "malePercent = round((maleCount / totalPlayers) * 100,2)\n",
    "femalePercent = round((femaleCount / totalPlayers) * 100,2)\n",
    "otherPercent = round((otherCount / totalPlayers) * 100,2)\n",
    "\n",
    "genderResults = pd.DataFrame({\n",
    "    \"Total Count\": [maleCount, femaleCount, otherCount],\n",
    "    \"Percentage of Players\" : [f\"{malePercent}%\", f\"{femalePercent}%\", f\"{otherPercent}%\"],\n",
    "    \"Gender\" : [\"Male\", \"Female\",\"Other / Non-Disclosed\"]\n",
    "})\n",
    "genderResults = genderResults.set_index(\"Gender\")\n",
    "genderResults"
   ]
  },
  {
   "cell_type": "code",
   "execution_count": null,
   "id": "26ef4b99",
   "metadata": {},
   "outputs": [],
   "source": []
  }
 ],
 "metadata": {
  "kernelspec": {
   "display_name": "Python 3",
   "language": "python",
   "name": "python3"
  },
  "language_info": {
   "codemirror_mode": {
    "name": "ipython",
    "version": 3
   },
   "file_extension": ".py",
   "mimetype": "text/x-python",
   "name": "python",
   "nbconvert_exporter": "python",
   "pygments_lexer": "ipython3",
   "version": "3.8.2"
  }
 },
 "nbformat": 4,
 "nbformat_minor": 5
}
